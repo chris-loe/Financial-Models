{
 "cells": [
  {
   "cell_type": "markdown",
   "metadata": {},
   "source": [
    "# **Black Scholes Model**\n",
    "***\n",
    "The Black Scholes Model allows one to determine the theoretical price of European *(can only be exercised on expiration date)* call and put options.\n",
    "#### The model is built on 5 variables:\n",
    "- Volatility\n",
    "- Underlying common share price\n",
    "- Exercise price\n",
    "- Time Decay\n",
    "- Risk free Rate\n",
    "\n",
    "<img src=\"http://education.optionseducation.org/oic_courses/OIC310C/images/pricingModels_01_c.gif\" alt=\"Error loading image\" title=\"Title text\">"
   ]
  },
  {
   "cell_type": "code",
   "execution_count": 1,
   "metadata": {},
   "outputs": [],
   "source": [
    "# Begin by first importing the necessary libraries,\n",
    "import numpy as np\n",
    "import pandas as pd\n",
    "import matplotlib.pyplot as plt\n",
    "import scipy.stats as ss\n",
    "import time\n",
    "\n",
    "%matplotlib inline\n",
    "plt.style.use('ggplot')"
   ]
  },
  {
   "cell_type": "markdown",
   "metadata": {},
   "source": [
    "## We will define 3 functions:\n",
    " 1. d1 \n",
    " 2. d2\n",
    " 3. BlackScholes - integrates functions d1 and d2\n",
    "    \n",
    "Explanations for each input:\n",
    " 1. S0 - Stock price at time 0\n",
    " 2. K - Exercise price\n",
    " 3. r - Risk free interest rate\n",
    " 4. sigma - Implied Volatility of underlying common stock\n",
    " 5. T - Time to maturity in trading year\n",
    " 6. Otype - Specifies if option is a call or a put"
   ]
  },
  {
   "cell_type": "code",
   "execution_count": 2,
   "metadata": {},
   "outputs": [],
   "source": [
    "def d1(S0, K, r, sigma, T):\n",
    "    return (np.log(S0/K) + (r + sigma**2 / 2) * T)/(sigma * np.sqrt(T))\n",
    " \n",
    "def d2(S0, K, r, sigma, T):\n",
    "    return (np.log(S0 / K) + (r - sigma**2 / 2) * T) / (sigma * np.sqrt(T))\n",
    " \n",
    "def BlackScholes(type,S0, K, r, sigma, T):\n",
    "    if type==\"C\":  # if CALL option\n",
    "        return S0 * ss.norm.cdf(d1(S0, K, r, sigma, T)) - K * np.exp(-r * T) * ss.norm.cdf(d2(S0, K, r, sigma, T))\n",
    "    else:          # if PUT option\n",
    "       return K * np.exp(-r * T) * ss.norm.cdf(-d2(S0, K, r, sigma, T)) - S0 * ss.norm.cdf(-d1(S0, K, r, sigma, T))"
   ]
  },
  {
   "cell_type": "markdown",
   "metadata": {},
   "source": [
    "### Now we need to define our parameters\n",
    "Below illustrates a at-the-money call option with 3 years to expiration"
   ]
  },
  {
   "cell_type": "code",
   "execution_count": 3,
   "metadata": {},
   "outputs": [],
   "source": [
    "S0 = 100.0\n",
    "K = 100.0\n",
    "r=0.1\n",
    "sigma = 0.30\n",
    "T = 3\n",
    "Otype='C'"
   ]
  },
  {
   "cell_type": "markdown",
   "metadata": {},
   "source": [
    "### Run the function!!!"
   ]
  },
  {
   "cell_type": "code",
   "execution_count": 4,
   "metadata": {},
   "outputs": [
    {
     "name": "stdout",
     "output_type": "stream",
     "text": [
      "S0\tstock price at time 0: 100.0\n",
      "K\tstrike price: 100.0\n",
      "r\tcontinuously compounded risk-free rate: 0.1\n",
      "sigma\tvolatility of the stock price per year: 0.3\n",
      "T\ttime to maturity in trading years: 3\n",
      "c_BS\tBlack-Scholes price: 33.60448376282812 0.0020055770874023438\n"
     ]
    }
   ],
   "source": [
    "print (\"S0\\tstock price at time 0:\", S0)\n",
    "print (\"K\\tstrike price:\", K)\n",
    "print (\"r\\tcontinuously compounded risk-free rate:\", r)\n",
    "print (\"sigma\\tvolatility of the stock price per year:\", sigma)\n",
    "print (\"T\\ttime to maturity in trading years:\", T)\n",
    "\n",
    "\n",
    "t=time.time()\n",
    "c_BS = BlackScholes(Otype,S0, K, r, sigma, T)\n",
    "elapsed=time.time()-t\n",
    "print (\"c_BS\\tBlack-Scholes price:\", c_BS, elapsed)"
   ]
  },
  {
   "cell_type": "markdown",
   "metadata": {},
   "source": [
    "### Extra: Suppose we want to demonstrate the effect Time Decay\n",
    "Let us use the same at-the-money call options, but define 3 time periods to maturity - T1, T2, T3.\n",
    "\n",
    "We have summarized the data in a simple pandas dataframe\n"
   ]
  },
  {
   "cell_type": "code",
   "execution_count": 40,
   "metadata": {},
   "outputs": [
    {
     "name": "stdout",
     "output_type": "stream",
     "text": [
      "c_BS1\tBlack-Scholes price: 33.60448376282812\n",
      "c_BS2\tBlack-Scholes price: 25.97547744468818\n",
      "c_BS3\tBlack-Scholes price: 16.73413358238666\n"
     ]
    },
    {
     "data": {
      "text/html": [
       "<div>\n",
       "<style scoped>\n",
       "    .dataframe tbody tr th:only-of-type {\n",
       "        vertical-align: middle;\n",
       "    }\n",
       "\n",
       "    .dataframe tbody tr th {\n",
       "        vertical-align: top;\n",
       "    }\n",
       "\n",
       "    .dataframe thead th {\n",
       "        text-align: right;\n",
       "    }\n",
       "</style>\n",
       "<table border=\"1\" class=\"dataframe\">\n",
       "  <thead>\n",
       "    <tr style=\"text-align: right;\">\n",
       "      <th></th>\n",
       "      <th>Option prices</th>\n",
       "    </tr>\n",
       "    <tr>\n",
       "      <th>Time</th>\n",
       "      <th></th>\n",
       "    </tr>\n",
       "  </thead>\n",
       "  <tbody>\n",
       "    <tr>\n",
       "      <th>T1</th>\n",
       "      <td>33.604484</td>\n",
       "    </tr>\n",
       "    <tr>\n",
       "      <th>T2</th>\n",
       "      <td>25.975477</td>\n",
       "    </tr>\n",
       "    <tr>\n",
       "      <th>T3</th>\n",
       "      <td>16.734134</td>\n",
       "    </tr>\n",
       "  </tbody>\n",
       "</table>\n",
       "</div>"
      ],
      "text/plain": [
       "      Option prices\n",
       "Time               \n",
       "T1        33.604484\n",
       "T2        25.975477\n",
       "T3        16.734134"
      ]
     },
     "execution_count": 40,
     "metadata": {},
     "output_type": "execute_result"
    }
   ],
   "source": [
    "S0 = 100.0\n",
    "K = 100.0\n",
    "r=0.1\n",
    "sigma = 0.30\n",
    "Otype='C'\n",
    "\n",
    "# Varying Time Period\n",
    "T1 = 3 \n",
    "T2 = 2\n",
    "T3 = 1\n",
    "\n",
    "c_BS1 = BlackScholes(Otype,S0, K, r, sigma, T1)\n",
    "c_BS2 = BlackScholes(Otype,S0, K, r, sigma, T2)\n",
    "c_BS3 = BlackScholes(Otype,S0, K, r, sigma, T3)\n",
    "\n",
    "print (\"c_BS1\\tBlack-Scholes price:\", c_BS1)\n",
    "print (\"c_BS2\\tBlack-Scholes price:\", c_BS2)\n",
    "print (\"c_BS3\\tBlack-Scholes price:\", c_BS3)\n",
    "\n",
    "TimeDecay = {'T1':c_BS1, 'T2': c_BS2, 'T3':c_BS3}\n",
    "\n",
    "df = pd.DataFrame(list(TimeDecay.items()), columns = ['Time', 'Option prices'])\n",
    "df.set_index('Time' ,inplace = True)\n",
    "df"
   ]
  },
  {
   "cell_type": "code",
   "execution_count": 43,
   "metadata": {},
   "outputs": [
    {
     "data": {
      "image/png": "[encoded data removed]",
      "text/plain": [
       "<Figure size 864x576 with 1 Axes>"
      ]
     },
     "metadata": {},
     "output_type": "display_data"
    }
   ],
   "source": [
    "TimeDecayBar = df.plot.bar(figsize = (12,8))\n"
   ]
  },
  {
   "cell_type": "code",
   "execution_count": null,
   "metadata": {},
   "outputs": [],
   "source": []
  }
 ],
 "metadata": {
  "kernelspec": {
   "display_name": "Python 3",
   "language": "python",
   "name": "python3"
  },
  "language_info": {
   "codemirror_mode": {
    "name": "ipython",
    "version": 3
   },
   "file_extension": ".py",
   "mimetype": "text/x-python",
   "name": "python",
   "nbconvert_exporter": "python",
   "pygments_lexer": "ipython3",
   "version": "3.6.5"
  }
 },
 "nbformat": 4,
 "nbformat_minor": 2
}
